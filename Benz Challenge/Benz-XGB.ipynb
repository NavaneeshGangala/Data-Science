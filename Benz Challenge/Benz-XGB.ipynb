{
 "cells": [
  {
   "cell_type": "code",
   "execution_count": 81,
   "metadata": {
    "collapsed": true
   },
   "outputs": [],
   "source": [
    "import os"
   ]
  },
  {
   "cell_type": "code",
   "execution_count": 82,
   "metadata": {},
   "outputs": [
    {
     "data": {
      "text/plain": [
       "'C:\\\\Users\\\\ganreddy'"
      ]
     },
     "execution_count": 82,
     "metadata": {},
     "output_type": "execute_result"
    }
   ],
   "source": [
    "os.getcwd()"
   ]
  },
  {
   "cell_type": "code",
   "execution_count": 1,
   "metadata": {},
   "outputs": [
    {
     "name": "stderr",
     "output_type": "stream",
     "text": [
      "C:\\Users\\ganreddy\\AppData\\Local\\Continuum\\Anaconda3\\lib\\site-packages\\sklearn\\cross_validation.py:44: DeprecationWarning: This module was deprecated in version 0.18 in favor of the model_selection module into which all the refactored classes and functions are moved. Also note that the interface of the new CV iterators are different from that of this module. This module will be removed in 0.20.\n",
      "  \"This module will be removed in 0.20.\", DeprecationWarning)\n"
     ]
    }
   ],
   "source": [
    "import pandas as pd\n",
    "import numpy as np\n",
    "import xgboost as xgb"
   ]
  },
  {
   "cell_type": "code",
   "execution_count": 14,
   "metadata": {},
   "outputs": [],
   "source": [
    "train_data_df = pd.read_csv('C:\\\\Users\\\\ganreddy\\\\Documents\\\\R Scripts\\\\Benz\\\\train.csv')"
   ]
  },
  {
   "cell_type": "code",
   "execution_count": 15,
   "metadata": {},
   "outputs": [],
   "source": [
    "test_data_df = pd.read_csv('C:\\\\Users\\\\ganreddy\\\\Documents\\\\R Scripts\\\\Benz\\\\test.csv')"
   ]
  },
  {
   "cell_type": "code",
   "execution_count": 16,
   "metadata": {
    "collapsed": true
   },
   "outputs": [],
   "source": [
    "Data = train_data_df.append(test_data_df, ignore_index=True)"
   ]
  },
  {
   "cell_type": "code",
   "execution_count": 20,
   "metadata": {},
   "outputs": [],
   "source": [
    "Data['X0']='X0'+Data['X0']\n",
    "Data['X1']='X1'+Data['X1']\n",
    "Data['X2']='X2'+Data['X2']\n",
    "Data['X3']='X3'+Data['X3']\n",
    "Data['X4']='X4'+Data['X4']\n",
    "Data['X5']='X5'+Data['X5']\n",
    "Data['X6']='X6'+Data['X6']\n",
    "Data['X8']='X8'+Data['X8']"
   ]
  },
  {
   "cell_type": "code",
   "execution_count": 22,
   "metadata": {},
   "outputs": [],
   "source": [
    "# X0,X1,X2,X3,X4,X5,X6,X7,X8\n",
    "Data_X0 = pd.get_dummies(Data['X0'])\n",
    "Data_X1 = pd.get_dummies(Data['X1'])\n",
    "Data_X2 = pd.get_dummies(Data['X2'])\n",
    "Data_X3 = pd.get_dummies(Data['X3'])\n",
    "Data_X4 = pd.get_dummies(Data['X4'])\n",
    "Data_X5 = pd.get_dummies(Data['X5'])\n",
    "Data_X6 = pd.get_dummies(Data['X6'])\n",
    "Data_X8 = pd.get_dummies(Data['X8'])"
   ]
  },
  {
   "cell_type": "code",
   "execution_count": 24,
   "metadata": {},
   "outputs": [],
   "source": [
    "\n",
    "#Train\n",
    "Data = Data.join(Data_X0)\n",
    "Data = Data.join(Data_X1)\n",
    "Data = Data.join(Data_X2)\n",
    "Data = Data.join(Data_X3)\n",
    "Data = Data.join(Data_X4)\n",
    "Data = Data.join(Data_X5)\n",
    "Data = Data.join(Data_X6)\n",
    "Data = Data.join(Data_X8)\n",
    "\n",
    "\n",
    "#Drop the Remaining\n",
    "#train_data_df.drop(train_data_df.columns[[2,3,4,5,6,7,8,9]], axis=1, inplace=True)\n",
    "\n"
   ]
  },
  {
   "cell_type": "code",
   "execution_count": 30,
   "metadata": {},
   "outputs": [],
   "source": [
    "Data.drop(['X0', 'X1','X2','X3','X4','X5','X6','X8'], axis=1, inplace=True)"
   ]
  },
  {
   "cell_type": "code",
   "execution_count": 48,
   "metadata": {},
   "outputs": [],
   "source": [
    "train_data_df=Data[Data['y'].notnull()]\n",
    "test_data_df=Data[Data['y'].isnull()]"
   ]
  },
  {
   "cell_type": "code",
   "execution_count": 49,
   "metadata": {},
   "outputs": [],
   "source": [
    "output = pd.Series(train_data_df.y, dtype=\"float\")\n",
    "train_data_df = train_data_df.drop('y',1)\n",
    "train_data_df = train_data_df.drop('ID',1)"
   ]
  },
  {
   "cell_type": "code",
   "execution_count": 50,
   "metadata": {},
   "outputs": [],
   "source": [
    "id = test_data_df.ID\n",
    "test_data_df = test_data_df.drop('y',1)\n",
    "test_data_df = test_data_df.drop('ID',1)"
   ]
  },
  {
   "cell_type": "code",
   "execution_count": 51,
   "metadata": {
    "collapsed": true
   },
   "outputs": [],
   "source": [
    "test_data_df = test_data_df.astype('float')\n",
    "train_data_df = train_data_df.astype('float')"
   ]
  },
  {
   "cell_type": "code",
   "execution_count": 52,
   "metadata": {
    "collapsed": true
   },
   "outputs": [],
   "source": [
    "xgb_tr = xgb.DMatrix(train_data_df, label=output, missing=np.NaN)\n",
    "xgb_ts = xgb.DMatrix(test_data_df, missing=np.NaN)"
   ]
  },
  {
   "cell_type": "code",
   "execution_count": 53,
   "metadata": {
    "collapsed": true
   },
   "outputs": [],
   "source": [
    "############## Prediction model #################\n",
    "param = {}\n",
    "#param['objective'] = 'binary:logitraw'\n",
    "param['objective'] = 'reg:linear'\n",
    "param['eta'] = 0.1\n",
    "param['max_delta_step'] = 1000\n",
    "param['max_depth'] = 5    #20\n",
    "# param['num_class'] = 2\n",
    "param['lambda']=0.001\n",
    "param['subsample'] = 0.85\n",
    "# param['colsample_bytree'] = 1\n",
    "param['gamma'] = 1\n",
    "param['min_child_weight'] = 17\n",
    "num_round = 2000   #2000\n"
   ]
  },
  {
   "cell_type": "code",
   "execution_count": 54,
   "metadata": {
    "collapsed": true
   },
   "outputs": [],
   "source": [
    "gbm = xgb.train(param,xgb_tr,num_round)"
   ]
  },
  {
   "cell_type": "code",
   "execution_count": 55,
   "metadata": {},
   "outputs": [],
   "source": [
    "test_pred = gbm.predict(xgb_ts)"
   ]
  },
  {
   "cell_type": "code",
   "execution_count": 59,
   "metadata": {},
   "outputs": [
    {
     "data": {
      "text/plain": [
       "array([  78.86367035,   93.24419403,   79.40079498, ...,   88.70170593,\n",
       "        110.10678864,   91.01621246], dtype=float32)"
      ]
     },
     "execution_count": 59,
     "metadata": {},
     "output_type": "execute_result"
    }
   ],
   "source": [
    "test_pred"
   ]
  },
  {
   "cell_type": "code",
   "execution_count": 75,
   "metadata": {},
   "outputs": [],
   "source": [
    "op = []\n",
    "for i  in zip(id,test_pred):\n",
    "    op.append(i)"
   ]
  },
  {
   "cell_type": "code",
   "execution_count": 78,
   "metadata": {},
   "outputs": [],
   "source": [
    "op_df = pd.DataFrame(op,columns=['ID','y'])"
   ]
  },
  {
   "cell_type": "code",
   "execution_count": 80,
   "metadata": {
    "collapsed": true
   },
   "outputs": [],
   "source": [
    "op_df.to_csv(\"C:\\\\Users\\\\ganreddy\\\\Documents\\\\R Scripts\\\\Benz\\\\submission.csv\")"
   ]
  },
  {
   "cell_type": "code",
   "execution_count": null,
   "metadata": {
    "collapsed": true
   },
   "outputs": [],
   "source": []
  }
 ],
 "metadata": {
  "kernelspec": {
   "display_name": "Python 3",
   "language": "python",
   "name": "python3"
  },
  "language_info": {
   "codemirror_mode": {
    "name": "ipython",
    "version": 3
   },
   "file_extension": ".py",
   "mimetype": "text/x-python",
   "name": "python",
   "nbconvert_exporter": "python",
   "pygments_lexer": "ipython3",
   "version": "3.6.1"
  }
 },
 "nbformat": 4,
 "nbformat_minor": 2
}

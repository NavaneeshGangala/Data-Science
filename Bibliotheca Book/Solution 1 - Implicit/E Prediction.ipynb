{
 "cells": [
  {
   "cell_type": "code",
   "execution_count": 1,
   "metadata": {},
   "outputs": [],
   "source": [
    "import sys\n",
    "import pandas as pd\n",
    "import numpy as np\n",
    "import scipy.sparse as sparse\n",
    "from scipy.sparse.linalg import spsolve\n",
    "import random\n",
    "\n",
    "from sklearn.preprocessing import MinMaxScaler\n",
    "\n",
    "#import implicit # The Cython library"
   ]
  },
  {
   "cell_type": "code",
   "execution_count": 3,
   "metadata": {},
   "outputs": [],
   "source": [
    "path = \"C:\\\\Users\\\\regangala\\\\Documents\\\\Data Science\\\\Bibliotheca Book\\\\Orginial Dataset\\\\\"\n",
    "BOOKSCATALOGUE = pd.read_csv(path + \"BOOKSCATALOGUE.csv\")\n",
    "BOOKSMASTERTEST = pd.read_csv(path + \"BOOKSMASTERTEST.csv\")\n",
    "BOOKSMASTERTRAIN = pd.read_csv(path + \"BOOKSMASTERTRAIN.csv\")\n",
    "BOOKSPURCHHISTORY = pd.read_csv(path + \"BOOKSPURCHHISTORY.csv\")\n",
    "BOOKSVISITHISTORY = pd.read_csv(path + \"BOOKSVISITHISTORY.csv\")\n",
    "USERMASTER = pd.read_csv(path + \"USERMASTER.csv\")"
   ]
  },
  {
   "cell_type": "code",
   "execution_count": null,
   "metadata": {},
   "outputs": [],
   "source": [
    "BOOKS_CATALOGUE\n",
    "BookID\tSTATE\tSUBSTATE\n",
    "This File consists of All the books available in different states and Sub States \n",
    "No Duplicate for combained all levels \n",
    "shape : (40185, 4)\n",
    "Unique Books : 4966 \n",
    "    \n",
    "USER_MASTER\n",
    "UserID\tSIGNUPDATE\tDELETED\tAGEGROUP\tGENDER\tSTATE\n",
    "shape : (15000, 6)\n",
    "unique Users: 15000\n",
    "    \n",
    "BOOKS_PURCH_HISTORY\n",
    "BookID\tUserID\tTIMESTAMP\tSUBSTATE\tWeekofYear\n",
    "\n",
    "shape :(43072, 5)\n",
    "unique books : 3510   Others : 39562\n",
    "unique user  : 10877  Others : 32195\n",
    "\n",
    "BOOKS_VISIT_HISTORY\n",
    "shape : (581232, 8)\n",
    "UserID\tBookID\tSESSIONID\tREFERRALID\tTIMESTAMP\tBOOKPREVIEWED\tSUBSCRIBED\tWeekofYear\n",
    "unique books : 3766    Others : 39562\n",
    "unique user  : 12914  Others : 568318\n",
    "\n",
    "BOOKS_MASTER_TRAIN\n",
    "BookID\tGENRE\tBOOKTITLE\tBOOKNAME\tSERIES\tAUTHOR\tUSERRATINGS\tOTHERPRINTEDINFO\tDETAILS\tSUMMARY\tGENRE.1\tAUTHORDESC\tCOVERPAGE\tPopularity\tBook_duplicate\n",
    "shape : (4469, 14)\n",
    "unique books : 4469\n",
    "    \n",
    "BOOKS_MASTER_TEST\n",
    "BookID\tGENRE\tBOOKTITLE\tBOOKNAME\tSERIES\tAUTHOR\tUSERRATINGS\tOTHERPRINTEDINFO\tDETAILS\tSUMMARY\tGENRE.1\tAUTHORDESC\tCOVERPAGE\tPopularity        \n",
    "SHAPE : (500, 14)\n",
    "unique books : 500\n",
    "\n",
    "Train(4469) + Test(500) != Catalogue(4966) [3 books more]"
   ]
  },
  {
   "cell_type": "code",
   "execution_count": null,
   "metadata": {},
   "outputs": [],
   "source": []
  }
 ],
 "metadata": {
  "kernelspec": {
   "display_name": "Python 3",
   "language": "python",
   "name": "python3"
  },
  "language_info": {
   "codemirror_mode": {
    "name": "ipython",
    "version": 3
   },
   "file_extension": ".py",
   "mimetype": "text/x-python",
   "name": "python",
   "nbconvert_exporter": "python",
   "pygments_lexer": "ipython3",
   "version": "3.7.1"
  }
 },
 "nbformat": 4,
 "nbformat_minor": 2
}
